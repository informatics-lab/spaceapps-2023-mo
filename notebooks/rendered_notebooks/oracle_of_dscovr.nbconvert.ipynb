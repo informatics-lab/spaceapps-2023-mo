{
 "cells": [
  {
   "cell_type": "markdown",
   "id": "e371c2f0-0bf3-4716-be2d-f7ae5a1fc6dc",
   "metadata": {},
   "source": [
    "# Process the input data\n",
    "\n",
    "Use [spacepy](https://spacepy.github.io/quickstart.html#omni-module) to download the [Qin-Denton version](https://agupubs.onlinelibrary.wiley.com/doi/full/10.1029/2006SW000296) of the [NASA OMNIWeb dataset](https://omniweb.gsfc.nasa.gov/ow.html) of solar wind properties.\n",
    "\n",
    "These solar wind properties are ultimately measured by [spacecraft (WIND, ACE)](https://omniweb.gsfc.nasa.gov/html/ow_data.html#prior) orbiting the Lagrangian 1 point ~1.5 million km sunward of Earth.\\\n",
    "Note that the OMNIWeb dataset has [cleaned these source data up](https://omniweb.gsfc.nasa.gov/html/ow_data.html#data_clean), and has also advected (time-shifted) these data [from L1 to near-Earth space](https://omniweb.gsfc.nasa.gov/html/ow_data.html#time_shift).\\\n",
    "And the further post-processing done by the [Qin-Denton dataset has filled in datagaps](https://agupubs.onlinelibrary.wiley.com/doi/abs/10.1029/2006SW000296).\n",
    "As such, the data are NOT at L1. Nor do they correspond to the messy real-time data measurements (from ACE and DSCOVR) with datagaps, warts and all which an operational tool would ultimately need to use to truly warn of an impending Carrington event.\n",
    "\n",
    "We'll use these data however in this Space Apps challenge, as:\n",
    "* the advection to Earth is ignorable for our proof-of-principle - in principle we could be getting similar measurements at L1 - so we'll pretend they are at L1!\n",
    "* using cleaned-up science-grade data is considerably easier than using messy real-time data (note that the [WIND dataset mentioned in the challenge resources](https://2022.spaceappschallenge.org/challenges/2022-challenges/carrington-event/resources) is not available in real-time)\n",
    "* spacepy offers a very convenient way to download a long period of data at sufficiently high (hourly) cadence for our purposes"
   ]
  },
  {
   "cell_type": "markdown",
   "id": "980ff96d-845f-4372-9a2c-5f35e00bb470",
   "metadata": {
    "tags": []
   },
   "source": [
    "## Imports"
   ]
  },
  {
   "cell_type": "code",
   "execution_count": 1,
   "id": "69f303cf-3490-4191-9e50-1b7dc3254586",
   "metadata": {},
   "outputs": [],
   "source": [
    "# Builtins\n",
    "import datetime as dt\n",
    "import pathlib as pl\n",
    "import sys\n",
    "\n",
    "# 3rd party modules\n",
    "import h5py\n",
    "import pandas as pd\n",
    "\n",
    "# Local packages\n",
    "# Some of our team are on Windows - resolve \"..\" for them!\n",
    "local_packages_dir = pl.Path(\"../src\").resolve()\n",
    "sys.path.append(str(local_packages_dir))\n",
    "import downloaddata as dd"
   ]
  },
  {
   "cell_type": "markdown",
   "id": "5d6319f3-13b7-484e-8132-b140a25fa1dc",
   "metadata": {},
   "source": [
    "## Settings"
   ]
  },
  {
   "cell_type": "code",
   "execution_count": 2,
   "id": "4613fb42-d5c6-4a83-82a6-a9cbf28c568c",
   "metadata": {},
   "outputs": [],
   "source": [
    "datafile = pl.Path(\"~/.spacepy/data/omnidata.h5\").expanduser().resolve()"
   ]
  },
  {
   "cell_type": "markdown",
   "id": "706e30c2-9cef-4623-9847-d56569b79e81",
   "metadata": {},
   "source": [
    "## Download solar wind data from OMNI\n",
    "Our local module downloads OMNI data using spacepy\\\n",
    "This takes a few minutes.\\\n",
    "This raises an ignorable error at end, due to CDF library not being installed.\\\n",
    "We've not done this as [installing the CDF library is painful](https://spacepy.github.io/dependencies.html#cdf-2-7) - we'll use other packages to read the downloaded data"
   ]
  },
  {
   "cell_type": "code",
   "execution_count": 3,
   "id": "99d4b981-b734-4d61-b4ae-36deea662b7c",
   "metadata": {
    "tags": [
     "raises-exception"
    ]
   },
   "outputs": [],
   "source": [
    "if not datafile.exists():\n",
    "    dd.download_data()"
   ]
  },
  {
   "cell_type": "markdown",
   "id": "59ced894-e14d-471d-8108-36e860e25ea6",
   "metadata": {},
   "source": [
    "## Read solar wind data\n",
    "Irritatingly, while our datafile nicely contains hourly solar wind values from ~1963 to present, it's quite painful to read:\n",
    "* It is not in the [format expected by pandas](https://pandas.pydata.org/pandas-docs/stable/user_guide/io.html#io-hdf5)\n",
    "* It doesn't play nicely with [xarray](https://docs.xarray.dev/en/stable/generated/xarray.open_dataset.html) either\n",
    "\n",
    "So we've got to do some low-level hacking with h5py :(\n",
    "\n",
    "Note also h5dump reveals there's not much/any metadata in this file (not shown) to help interpret contents (e.g. field long descriptions, units, ...). We can however refer to the [description of file contents in Qin et al, 2007](https://agupubs.onlinelibrary.wiley.com/doi/full/10.1029/2006SW000296#swe208-sec-0010-title), and [json-formatted header metadata at the VIRBO source](https://rbsp-ect.newmexicoconsortium.org/data_pub/QinDenton/QDheader.txt)."
   ]
  },
  {
   "cell_type": "code",
   "execution_count": 4,
   "id": "00586a5f-7936-4990-b11a-65c0f8876f99",
   "metadata": {},
   "outputs": [],
   "source": [
    "# Add some metadata ourselves to some of the keys we may want to read\n",
    "# Keys we're ignoring:\n",
    "# 'ByIMF', 'Bz1', 'Bz2', 'Bz3', 'Bz4', 'Bz5', 'Bz6', 'BzIMF', 'DOY', 'G1', 'G2', 'G3', 'Qbits', 'RDT', 'W1', 'W2', 'W3', 'W4', 'W5', 'W6', 'akp3',\n",
    "keys_to_read = {\n",
    "    \"Dst\": {\n",
    "        \"description\": \"disturbance storm time index\",\n",
    "        \"unit\": \"nT\",\n",
    "        \"url\": \"https://en.wikipedia.org/wiki/Disturbance_storm_time_index\",\n",
    "    },\n",
    "    \"Kp\": {\n",
    "        \"description\": \"planetary K index\",\n",
    "        \"unit\": \"\",\n",
    "        \"url\": \"https://en.wikipedia.org/wiki/K-index#The_Kp-index_and_estimated_Kp-index\",\n",
    "    },\n",
    "    \"Pdyn\": {\n",
    "        \"description\": \"dynamic pressure\",\n",
    "        \"unit\": \"nPa\",\n",
    "        \"url\": \"https://en.wikipedia.org/wiki/Solar_wind#Pressure\",\n",
    "    },\n",
    "    \"UTC\": {\n",
    "        \"description\": \"datetime (UTC)\",\n",
    "        \"unit\": \"\",\n",
    "        \"url\": \"\",\n",
    "    },\n",
    "    \"dens\": {\n",
    "        \"description\": \"solar wind density\",\n",
    "        \"unit\": \"cm-3\",\n",
    "        \"url\": \"https://en.wikipedia.org/wiki/Solar_wind#Velocity_and_density\",\n",
    "    },\n",
    "    \"velo\": {\n",
    "        \"description\": \"solar wind speed\",\n",
    "        \"unit\": \"km/s\",\n",
    "        \"url\": \"https://en.wikipedia.org/wiki/Solar_wind#Velocity_and_density\",\n",
    "    },\n",
    "}"
   ]
  },
  {
   "cell_type": "code",
   "execution_count": 5,
   "id": "ff00081b-7f9d-4989-9e68-685d9b522ebe",
   "metadata": {},
   "outputs": [],
   "source": [
    "# Read our datafile\n",
    "with h5py.File(datafile,\"r\") as fo:\n",
    "    data = {key: fo[key][:] for key in keys_to_read.keys()}\n",
    "\n",
    "# Convert the bytestring dates to strings\n",
    "data[\"UTC\"] = [dt.decode(\"utf8\") for dt in data[\"UTC\"]]\n",
    "\n",
    "# Convert to a dataframe, and change date column to a date index\n",
    "data = pd.DataFrame(data)\n",
    "data.set_index(pd.DatetimeIndex(data['UTC']), inplace=True)\n",
    "data = data.drop(columns=[\"UTC\"])"
   ]
  },
  {
   "cell_type": "markdown",
   "id": "bfbbc15c-f3da-45db-bc10-ba86a2db3959",
   "metadata": {},
   "source": [
    "## Initial look at data\n",
    "Let's have a look at our data..."
   ]
  },
  {
   "cell_type": "code",
   "execution_count": 6,
   "id": "79ed84d8-f741-496d-ab28-3253ce6ae07a",
   "metadata": {},
   "outputs": [
    {
     "name": "stdout",
     "output_type": "stream",
     "text": [
      "First and last rows of data:\n",
      "                     Dst    Kp  Pdyn   dens   velo\n",
      "UTC                                               \n",
      "1963-11-27 14:00:00   -3   0.7  1.71  10.50  285.0\n",
      "1963-11-27 15:00:00   -3   0.3  1.95  12.00  285.0\n",
      "1963-11-27 16:00:00   -1   0.3  1.95  12.00  285.0\n",
      "1963-11-27 17:00:00   -1   0.3  1.95  12.00  285.0\n",
      "1963-11-27 18:00:00   -3   1.0  2.30  13.70  290.0\n",
      "...                  ...   ...   ...    ...    ...\n",
      "2022-01-19 19:00:00  -20  99.0  0.00   2.67  513.6\n",
      "2022-01-19 20:00:00  -20  99.0  0.00   2.67  513.6\n",
      "2022-01-19 21:00:00  -17  99.0  0.00   2.67  513.6\n",
      "2022-01-19 22:00:00  -15  99.0  0.00   2.67  513.6\n",
      "2022-01-19 23:00:00  -14  99.0  0.00   2.67  513.6\n",
      "\n",
      "[509722 rows x 5 columns]\n",
      "\n",
      "Summary statistics:\n",
      "             Dst         Kp       Pdyn       dens       velo\n",
      "count  509722.00  509722.00  509722.00  509722.00  509722.00\n",
      "mean      -14.14       2.11       2.36       6.93     436.60\n",
      "std        22.05       1.94       1.71       4.97      98.92\n",
      "min      -589.00       0.00       0.00       0.00     156.00\n",
      "25%       -22.00       1.00       1.39       3.80     364.00\n",
      "50%       -10.00       2.00       2.07       5.90     418.00\n",
      "75%        -1.00       3.00       2.88       8.52     488.00\n",
      "max        81.00      99.00      76.06     137.20    1189.00\n"
     ]
    }
   ],
   "source": [
    "def look_at_data(data):\n",
    "    \"\"\"Get an overview of our data\"\"\"\n",
    "    with pd.option_context('display.precision', 2):\n",
    "        print(f\"First and last rows of data:\\n{data}\\n\")\n",
    "        print(f\"Summary statistics:\\n{data.describe()}\")\n",
    "\n",
    "look_at_data(data)"
   ]
  },
  {
   "cell_type": "markdown",
   "id": "2a1577be-541a-446e-b1bf-0a3c76da4fe9",
   "metadata": {},
   "source": [
    "## Sanitising data\n",
    "As-is, our data is at hourly cadence, and runs from 1963 to ~present, with some invalid Kp values (> 9) at the end.\n",
    "\n",
    "We'll want to:\n",
    "* Remove the most recent data with invalid Kp values\n",
    "* Restrict the data to the period ~1995 onwards, where the OMNI dataset has fewer datagaps, so less will have been filled by the Qin-Denton method\n",
    "  * See e.g. Fig 2 of [Lockwood et al, \\[2018\\]](https://doi.org/10.1029/2018SW001856)\n",
    "  * Note discarding pre-1995 may exclude some coronal mass ejection signatures present in OMNIWeb, however the paper above shows there are many datagaps.\n",
    "  * Furthermore good records of coronal mass ejections in in-situ solar wind data at L1 only start in ~1997, in the [Richardson and Cane ICME catalogue](https://izw1.caltech.edu/ACE/ASC/DATA/level3/icmetable2.htm)"
   ]
  },
  {
   "cell_type": "code",
   "execution_count": 7,
   "id": "a1edb1f3-f6e6-4319-9093-268c428a9d84",
   "metadata": {},
   "outputs": [
    {
     "name": "stdout",
     "output_type": "stream",
     "text": [
      "First and last rows of data:\n",
      "                     Dst   Kp  Pdyn   dens   velo\n",
      "UTC                                              \n",
      "1995-01-01 00:00:00   -2  1.0  2.87  16.30  315.0\n",
      "1995-01-01 01:00:00    3  1.0  3.28  18.80  315.0\n",
      "1995-01-01 02:00:00    6  1.0  3.46  19.30  320.0\n",
      "1995-01-01 03:00:00    5  0.0  2.90  16.40  317.0\n",
      "1995-01-01 04:00:00    3  0.0  2.51  14.50  313.0\n",
      "...                  ...  ...   ...    ...    ...\n",
      "2022-01-15 19:00:00  -31  4.0  0.00   2.67  513.6\n",
      "2022-01-15 20:00:00  -29  4.0  0.00   2.67  513.6\n",
      "2022-01-15 21:00:00  -35  4.7  0.00   2.67  513.6\n",
      "2022-01-15 22:00:00  -42  4.7  0.00   2.67  513.6\n",
      "2022-01-15 23:00:00  -42  4.7  0.00   2.67  513.6\n",
      "\n",
      "[237048 rows x 5 columns]\n",
      "\n",
      "Summary statistics:\n",
      "             Dst         Kp       Pdyn       dens       velo\n",
      "count  237048.00  237048.00  237048.00  237048.00  237048.00\n",
      "mean      -11.80       1.78       2.00       6.29     426.26\n",
      "std        19.41       1.34       1.62       4.96     100.74\n",
      "min      -422.00       0.00       0.00       0.10     228.00\n",
      "25%       -19.00       0.70       1.13       3.20     351.00\n",
      "50%        -8.00       1.70       1.63       4.90     403.00\n",
      "75%         0.00       2.70       2.37       7.80     479.00\n",
      "max        77.00       9.00      71.04     137.20    1189.00\n"
     ]
    }
   ],
   "source": [
    "# Sanitise our data:\n",
    "# * remove dodgy Kp values at end\n",
    "# * limit to more recent values\n",
    "data = data[data[\"Kp\"]<=9]\n",
    "data = data.loc[\"1995\":]\n",
    "look_at_data(data)"
   ]
  },
  {
   "cell_type": "markdown",
   "id": "64871aa6-3fae-47ef-a22e-78345ef1ed27",
   "metadata": {},
   "source": [
    "## Examine a coronal mass ejection\n",
    "Let's look at a coronal mass ejection from the [Richardson and Cane ICME* catalogue](https://izw1.caltech.edu/ACE/ASC/DATA/level3/icmetable2.htm)\n",
    "* This has been subsampled to a nice [csv format](https://idoc.ias.u-psud.fr/sites/idoc/files/CME_catalog/html/ACE-ICMEs-list-dates-quality-nosheath-forweb.html) by [Regnault et al. \\[2020\\]](https://doi.org/10.1029/2020JA028150).\n",
    "  * This could easily used to filter our data, in a similar way to selection below, so that the peak detection can concentrate on the CMEs\n",
    "  * This paper is worth a read to look at the \"average\" CME profile across many CMEs - lots of variance visible in Fig 2 (see also Fig 4 for binned CMEs), but may nevertheless inform sensible machine learning follow-ons?\n",
    "* Note there's also a useful [gist by Steve Morley](https://gist.github.com/drsteve/8c42ad03159fdcd415ba0bf575284f75) for parsing the  html in the original catalogue "
   ]
  },
  {
   "cell_type": "code",
   "execution_count": 8,
   "id": "bc032482-a3bc-41c4-bc8a-031f40474cce",
   "metadata": {},
   "outputs": [
    {
     "data": {
      "image/png": "[encoded data removed]",
      "text/plain": [
       "<Figure size 640x480 with 1 Axes>"
      ]
     },
     "metadata": {},
     "output_type": "display_data"
    }
   ],
   "source": [
    "# Using dates for a CME in Richardson and Cane to filter our dataframe\n",
    "cme_dates = {\n",
    "    \"disturbance\": \"2021-11-03T19:49\", \n",
    "    \"icme_start\": \"2021-11-04T07:00\",\n",
    "    \"icme_end\": \"2021-11-05T05:00\",\n",
    "}\n",
    "pad = {\n",
    "    \"start\": dt.timedelta(days=-1),\n",
    "    \"end\": dt.timedelta(days=1),\n",
    "}\n",
    "fromiso = dt.datetime.fromisoformat  # Abbreviate method for convenience\n",
    "context_dates = {\n",
    "    \"start\": fromiso(cme_dates[\"disturbance\"]) + pad[\"start\"],\n",
    "    \"end\": fromiso(cme_dates[\"icme_end\"]) + pad[\"end\"],\n",
    "}\n",
    "cme = data.loc[cme_dates[\"disturbance\"]:cme_dates[\"icme_end\"]]\n",
    "context = data.loc[context_dates[\"start\"]:context_dates[\"end\"]]\n",
    "hax = cme.plot(y=\"velo\", color=\"red\", legend=\"ICME\")\n",
    "_ = context.plot(ax=hax, y=\"velo\", color=\"lightgrey\", zorder=0, legend=\"Context\")"
   ]
  }
 ],
 "metadata": {
  "kernelspec": {
   "display_name": "Python 3 (ipykernel)",
   "language": "python",
   "name": "python3"
  },
  "language_info": {
   "codemirror_mode": {
    "name": "ipython",
    "version": 3
   },
   "file_extension": ".py",
   "mimetype": "text/x-python",
   "name": "python",
   "nbconvert_exporter": "python",
   "pygments_lexer": "ipython3",
   "version": "3.10.6"
  }
 },
 "nbformat": 4,
 "nbformat_minor": 5
}
